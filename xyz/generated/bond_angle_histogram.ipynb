{
 "cells": [
  {
   "cell_type": "code",
   "execution_count": 22,
   "id": "8433100f-5da0-48d2-af87-e2606ace84e7",
   "metadata": {},
   "outputs": [
    {
     "name": "stdout",
     "output_type": "stream",
     "text": [
      "(999, 2)\n",
      "(999, 2)\n",
      "(10998, 2)\n",
      "(10998, 2)\n",
      "(999, 2)\n",
      "(10998, 2)\n"
     ]
    },
    {
     "data": {
      "text/plain": [
       "(array([1.000e+00, 0.000e+00, 0.000e+00, 1.000e+00, 1.000e+00, 5.000e+00,\n",
       "        9.000e+00, 2.000e+01, 3.800e+01, 8.200e+01, 1.870e+02, 3.500e+02,\n",
       "        5.870e+02, 7.330e+02, 1.017e+03, 1.219e+03, 1.329e+03, 1.323e+03,\n",
       "        1.161e+03, 9.870e+02, 7.680e+02, 4.580e+02, 3.360e+02, 1.840e+02,\n",
       "        9.900e+01, 4.900e+01, 2.800e+01, 1.600e+01, 6.000e+00, 4.000e+00]),\n",
       " array([  6.654118  ,  12.38686627,  18.11961453,  23.8523628 ,\n",
       "         29.58511107,  35.31785933,  41.0506076 ,  46.78335587,\n",
       "         52.51610413,  58.2488524 ,  63.98160067,  69.71434893,\n",
       "         75.4470972 ,  81.17984547,  86.91259373,  92.645342  ,\n",
       "         98.37809027, 104.11083853, 109.8435868 , 115.57633507,\n",
       "        121.30908333, 127.0418316 , 132.77457987, 138.50732813,\n",
       "        144.2400764 , 149.97282467, 155.70557293, 161.4383212 ,\n",
       "        167.17106947, 172.90381773, 178.636566  ]),\n",
       " <BarContainer object of 30 artists>)"
      ]
     },
     "execution_count": 22,
     "metadata": {},
     "output_type": "execute_result"
    },
    {
     "data": {
      "image/png": "[encoded data removed]",
      "text/plain": [
       "<Figure size 432x288 with 1 Axes>"
      ]
     },
     "metadata": {
      "needs_background": "light"
     },
     "output_type": "display_data"
    },
    {
     "data": {
      "image/png": "[encoded data removed]",
      "text/plain": [
       "<Figure size 432x288 with 1 Axes>"
      ]
     },
     "metadata": {
      "needs_background": "light"
     },
     "output_type": "display_data"
    }
   ],
   "source": [
    "import matplotlib.pyplot as plt\n",
    "import numpy as np\n",
    "\n",
    "plt.figure()\n",
    "fname = 'r_oh1_1000.dat'\n",
    "r_oh1 = np.loadtxt(fname, skiprows=0, usecols=[0, 1])\n",
    "print(r_oh1.shape)\n",
    "plt.hist(r_oh1[:,1], 30)\n",
    "fname = 'r_oh2_1000.dat'\n",
    "r_oh2 = np.loadtxt(fname, skiprows=0, usecols=[0, 1])\n",
    "print(r_oh2.shape)\n",
    "plt.hist(r_oh2[:,1], 30)\n",
    "\n",
    "plt.figure()\n",
    "fname = 'r_oh1_10000.dat'\n",
    "r_oh1 = np.loadtxt(fname, skiprows=0, usecols=[0, 1])\n",
    "print(r_oh1.shape)\n",
    "plt.hist(r_oh1[:,1], 30)\n",
    "fname = 'r_oh2_10000.dat'\n",
    "r_oh2 = np.loadtxt(fname, skiprows=0, usecols=[0, 1])\n",
    "print(r_oh2.shape)\n",
    "plt.hist(r_oh2[:,1], 30)\n",
    "\n",
    "plt.figure()\n",
    "fname = 'a_hoh_1000.dat'\n",
    "a_hoh = np.loadtxt(fname, skiprows=0, usecols=[0, 1])\n",
    "print(a_hoh.shape)\n",
    "\n",
    "plt.hist(a_hoh[:,1], 30)\n",
    "fname = 'a_hoh_10000.dat'\n",
    "a_hoh = np.loadtxt(fname, skiprows=0, usecols=[0, 1])\n",
    "plt.figure()\n",
    "print(a_hoh.shape)\n",
    "plt.hist(a_hoh[:,1], 30)"
   ]
  },
  {
   "cell_type": "code",
   "execution_count": null,
   "id": "ef9785bc-3550-4337-bb2d-7509ebe4aaa0",
   "metadata": {},
   "outputs": [],
   "source": []
  }
 ],
 "metadata": {
  "kernelspec": {
   "display_name": "Python 3 (ipykernel)",
   "language": "python",
   "name": "python3"
  },
  "language_info": {
   "codemirror_mode": {
    "name": "ipython",
    "version": 3
   },
   "file_extension": ".py",
   "mimetype": "text/x-python",
   "name": "python",
   "nbconvert_exporter": "python",
   "pygments_lexer": "ipython3",
   "version": "3.8.10"
  }
 },
 "nbformat": 4,
 "nbformat_minor": 5
}
